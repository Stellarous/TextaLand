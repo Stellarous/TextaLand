{
 "cells": [
  {
   "cell_type": "code",
   "execution_count": 6,
   "id": "2f7314e7-60d3-4fba-82ed-93f698545e58",
   "metadata": {},
   "outputs": [
    {
     "name": "stdout",
     "output_type": "stream",
     "text": [
      "You are in the coridor.\n"
     ]
    },
    {
     "name": "stdin",
     "output_type": "stream",
     "text": [
      ">  lab\n"
     ]
    },
    {
     "name": "stdout",
     "output_type": "stream",
     "text": [
      "You are in the lab\n"
     ]
    },
    {
     "name": "stdin",
     "output_type": "stream",
     "text": [
      ">  cargo\n"
     ]
    },
    {
     "name": "stdout",
     "output_type": "stream",
     "text": [
      "There is no room to enter!\n",
      "You are in the lab\n"
     ]
    },
    {
     "name": "stdin",
     "output_type": "stream",
     "text": [
      ">  coridor\n"
     ]
    },
    {
     "name": "stdout",
     "output_type": "stream",
     "text": [
      "You are in the coridor.\n"
     ]
    },
    {
     "name": "stdin",
     "output_type": "stream",
     "text": [
      ">  control_room\n"
     ]
    },
    {
     "name": "stdout",
     "output_type": "stream",
     "text": [
      "You are in the control room\n",
      "Items here: map\n"
     ]
    },
    {
     "name": "stdin",
     "output_type": "stream",
     "text": [
      ">  picj up map\n"
     ]
    },
    {
     "name": "stdout",
     "output_type": "stream",
     "text": [
      "Invalid command.\n",
      "You are in the control room\n",
      "Items here: map\n"
     ]
    },
    {
     "name": "stdin",
     "output_type": "stream",
     "text": [
      ">  pickup map\n"
     ]
    },
    {
     "name": "stdout",
     "output_type": "stream",
     "text": [
      "Invalid command.\n",
      "You are in the control room\n",
      "Items here: map\n"
     ]
    },
    {
     "name": "stdin",
     "output_type": "stream",
     "text": [
      ">  pick up map\n"
     ]
    },
    {
     "name": "stdout",
     "output_type": "stream",
     "text": [
      "You picked up map!\n",
      "You are in the control room\n"
     ]
    },
    {
     "name": "stdin",
     "output_type": "stream",
     "text": [
      ">  coridor\n"
     ]
    },
    {
     "name": "stdout",
     "output_type": "stream",
     "text": [
      "There is no room to enter!\n",
      "You are in the control room\n"
     ]
    },
    {
     "name": "stdin",
     "output_type": "stream",
     "text": [
      ">  control_room\n"
     ]
    },
    {
     "ename": "AttributeError",
     "evalue": "'spaceship' object has no attribute 'control_room'",
     "output_type": "error",
     "traceback": [
      "\u001b[0;31m---------------------------------------------------------------------------\u001b[0m",
      "\u001b[0;31mAttributeError\u001b[0m                            Traceback (most recent call last)",
      "Input \u001b[0;32mIn [6]\u001b[0m, in \u001b[0;36m<cell line: 53>\u001b[0;34m()\u001b[0m\n\u001b[1;32m     56\u001b[0m command \u001b[38;5;241m=\u001b[39m \u001b[38;5;28minput\u001b[39m(\u001b[38;5;124m\"\u001b[39m\u001b[38;5;124m> \u001b[39m\u001b[38;5;124m\"\u001b[39m)\n\u001b[1;32m     57\u001b[0m \u001b[38;5;28;01mif\u001b[39;00m command \u001b[38;5;129;01min\u001b[39;00m [\u001b[38;5;124m\"\u001b[39m\u001b[38;5;124mcontrol_room\u001b[39m\u001b[38;5;124m\"\u001b[39m, \u001b[38;5;124m\"\u001b[39m\u001b[38;5;124mcargo\u001b[39m\u001b[38;5;124m\"\u001b[39m, \u001b[38;5;124m\"\u001b[39m\u001b[38;5;124mengine_room\u001b[39m\u001b[38;5;124m\"\u001b[39m, \u001b[38;5;124m\"\u001b[39m\u001b[38;5;124mlab\u001b[39m\u001b[38;5;124m\"\u001b[39m, \u001b[38;5;124m\"\u001b[39m\u001b[38;5;124mcoridor\u001b[39m\u001b[38;5;124m\"\u001b[39m]:\n\u001b[0;32m---> 58\u001b[0m     \u001b[43mAstronaut\u001b[49m\u001b[38;5;241;43m.\u001b[39;49m\u001b[43mmove\u001b[49m\u001b[43m(\u001b[49m\u001b[43mcommand\u001b[49m\u001b[43m)\u001b[49m\n\u001b[1;32m     59\u001b[0m \u001b[38;5;28;01melif\u001b[39;00m command\u001b[38;5;241m.\u001b[39mstartswith(\u001b[38;5;124m\"\u001b[39m\u001b[38;5;124mpick up \u001b[39m\u001b[38;5;124m\"\u001b[39m):\n\u001b[1;32m     60\u001b[0m     item \u001b[38;5;241m=\u001b[39m command[\u001b[38;5;241m8\u001b[39m:]\n",
      "Input \u001b[0;32mIn [6]\u001b[0m, in \u001b[0;36mastronaut.move\u001b[0;34m(self, room)\u001b[0m\n\u001b[1;32m     16\u001b[0m \u001b[38;5;28;01mdef\u001b[39;00m \u001b[38;5;21mmove\u001b[39m(\u001b[38;5;28mself\u001b[39m, room):\n\u001b[0;32m---> 17\u001b[0m     \u001b[38;5;28;01mif\u001b[39;00m \u001b[38;5;28;43mgetattr\u001b[39;49m\u001b[43m(\u001b[49m\u001b[38;5;28;43mself\u001b[39;49m\u001b[38;5;241;43m.\u001b[39;49m\u001b[43mcurrent_room\u001b[49m\u001b[43m,\u001b[49m\u001b[43m \u001b[49m\u001b[43mroom\u001b[49m\u001b[43m)\u001b[49m \u001b[38;5;129;01mis\u001b[39;00m \u001b[38;5;129;01mnot\u001b[39;00m \u001b[38;5;28;01mNone\u001b[39;00m:\n\u001b[1;32m     18\u001b[0m         \u001b[38;5;28mself\u001b[39m\u001b[38;5;241m.\u001b[39mcurrent_room \u001b[38;5;241m=\u001b[39m \u001b[38;5;28mgetattr\u001b[39m(\u001b[38;5;28mself\u001b[39m\u001b[38;5;241m.\u001b[39mcurrent_room, room)\n\u001b[1;32m     19\u001b[0m     \u001b[38;5;28;01melse\u001b[39;00m:\n",
      "\u001b[0;31mAttributeError\u001b[0m: 'spaceship' object has no attribute 'control_room'"
     ]
    }
   ],
   "source": [
    "class spaceship:\n",
    "    def __init__(self, description, items=None, control_room=None, cargo=None, lab=None, engine_room=None, coridor=None):\n",
    "        self.description = description\n",
    "        self.contro_room = control_room\n",
    "        self.cargo = cargo\n",
    "        self.lab = lab\n",
    "        self.engine_room = engine_room\n",
    "        self.coridor = coridor\n",
    "        self.items = items if items else []\n",
    "\n",
    "class astronaut:\n",
    "    def __init__(self, current_room):\n",
    "        self.current_room = current_room\n",
    "        self.inventory = []\n",
    "        \n",
    "    def move(self, room):\n",
    "        if getattr(self.current_room, room) is not None:\n",
    "            self.current_room = getattr(self.current_room, room)\n",
    "        else:\n",
    "            print(\"There is no room to enter!\")\n",
    "            \n",
    "    def pick_up(self, item):\n",
    "        if item in self.current_room.items:\n",
    "            self.current_room.items.remove(item)\n",
    "            self.inventory.append(item)\n",
    "            print(f\"You picked up {item}!\")\n",
    "        else:\n",
    "            print(\"That item is not here\")\n",
    "            \n",
    "#create rooms\n",
    "coridor = spaceship(\"You are in the coridor.\")\n",
    "control_room = spaceship(\"You are in the control room\", items=[\"map\"])\n",
    "cargo = spaceship(\"You are in the cargo\")\n",
    "lab = spaceship(\"You are in the lab\")\n",
    "engine_room = spaceship(\"You are in the engine room\")\n",
    "\n",
    "#link rooms\n",
    "contro_room.coridor = coridor\n",
    "cargo.coridor = coridor\n",
    "lab.coridor = coridor\n",
    "engine_room.coridor = coridor\n",
    "\n",
    "coridor.control_room = control_room\n",
    "coridor.cargo = cargo\n",
    "coridor.lab = lab\n",
    "coridor.engine_room = engine_room\n",
    "\n",
    "#create agent\n",
    "Astronaut = astronaut(coridor)\n",
    "        \n",
    "# Game loop\n",
    "while True:\n",
    "    print(Astronaut.current_room.description)\n",
    "    if Astronaut.current_room.items:\n",
    "        print(\"Items here: \" + \", \".join(Astronaut.current_room.items))\n",
    "    command = input(\"> \")\n",
    "    if command in [\"control_room\", \"cargo\", \"engine_room\", \"lab\", \"coridor\"]:\n",
    "        Astronaut.move(command)\n",
    "    elif command.startswith(\"pick up \"):\n",
    "        item = command[8:]\n",
    "        Astronaut.pick_up(item)\n",
    "    else:\n",
    "        print(\"Invalid command.\")"
   ]
  },
  {
   "cell_type": "code",
   "execution_count": null,
   "id": "4326d8ca-8cb4-4501-8fc7-be68dbf5112e",
   "metadata": {},
   "outputs": [],
   "source": []
  }
 ],
 "metadata": {
  "kernelspec": {
   "display_name": "Python 3",
   "language": "python",
   "name": "python3"
  },
  "language_info": {
   "codemirror_mode": {
    "name": "ipython",
    "version": 3
   },
   "file_extension": ".py",
   "mimetype": "text/x-python",
   "name": "python",
   "nbconvert_exporter": "python",
   "pygments_lexer": "ipython3",
   "version": "3.9.12"
  }
 },
 "nbformat": 4,
 "nbformat_minor": 5
}
